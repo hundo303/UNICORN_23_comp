{
 "cells": [
  {
   "cell_type": "code",
   "execution_count": 6,
   "metadata": {
    "collapsed": true
   },
   "outputs": [],
   "source": [
    "import pandas as pd\n",
    "import pickle\n",
    "import xgboost as xgb\n",
    "from sklearn.model_selection import train_test_split\n",
    "from matplotlib import pyplot as plt"
   ]
  },
  {
   "cell_type": "code",
   "execution_count": 8,
   "outputs": [],
   "source": [
    "with open('../data/output_data/train_df.pickle', 'rb') as f:\n",
    "    train_df: pd.DataFrame = pickle.load(f)"
   ],
   "metadata": {
    "collapsed": false,
    "pycharm": {
     "name": "#%%\n"
    }
   }
  },
  {
   "cell_type": "code",
   "execution_count": 10,
   "outputs": [],
   "source": [
    "train_y = train_df['author_id']\n",
    "train_X = train_df.drop('author_id', axis=1)\n",
    "dtrain = xgb.DMatrix(train_X, label=train_y)\n",
    "params = {'eta': 0.5, 'objective': 'multi:softprob', 'num_class': 870}\n",
    "evals = [(dtrain, 'train')]"
   ],
   "metadata": {
    "collapsed": false,
    "pycharm": {
     "name": "#%%\n"
    }
   }
  },
  {
   "cell_type": "code",
   "execution_count": 11,
   "outputs": [
    {
     "name": "stdout",
     "output_type": "stream",
     "text": [
      "[14:19:07] WARNING: ..\\src\\learner.cc:1061: Starting in XGBoost 1.3.0, the default evaluation metric used with the objective 'multi:softprob' was changed from 'merror' to 'mlogloss'. Explicitly set eval_metric if you'd like to restore the old behavior.\n",
      "[0]\ttrain-mlogloss:13.67211\n",
      "[1]\ttrain-mlogloss:11.75790\n",
      "[2]\ttrain-mlogloss:11.22101\n",
      "[3]\ttrain-mlogloss:10.63585\n",
      "[4]\ttrain-mlogloss:9.19185\n",
      "[5]\ttrain-mlogloss:8.23717\n",
      "[6]\ttrain-mlogloss:7.72930\n",
      "[7]\ttrain-mlogloss:7.36151\n",
      "[8]\ttrain-mlogloss:7.20727\n",
      "[9]\ttrain-mlogloss:6.67261\n",
      "[10]\ttrain-mlogloss:6.82176\n",
      "[11]\ttrain-mlogloss:6.61209\n",
      "[12]\ttrain-mlogloss:5.65883\n",
      "[13]\ttrain-mlogloss:5.36723\n",
      "[14]\ttrain-mlogloss:5.20137\n",
      "[15]\ttrain-mlogloss:5.05428\n",
      "[16]\ttrain-mlogloss:4.92129\n",
      "[17]\ttrain-mlogloss:4.79007\n",
      "[18]\ttrain-mlogloss:4.67682\n",
      "[19]\ttrain-mlogloss:4.56291\n",
      "[20]\ttrain-mlogloss:4.45210\n",
      "[21]\ttrain-mlogloss:4.34424\n",
      "[22]\ttrain-mlogloss:4.23916\n",
      "[23]\ttrain-mlogloss:4.14518\n",
      "[24]\ttrain-mlogloss:4.05919\n",
      "[25]\ttrain-mlogloss:3.97405\n",
      "[26]\ttrain-mlogloss:3.88966\n",
      "[27]\ttrain-mlogloss:3.80717\n",
      "[28]\ttrain-mlogloss:3.72333\n",
      "[29]\ttrain-mlogloss:3.90262\n",
      "[30]\ttrain-mlogloss:3.72530\n",
      "[31]\ttrain-mlogloss:3.61012\n",
      "[32]\ttrain-mlogloss:3.51661\n",
      "[33]\ttrain-mlogloss:3.43151\n",
      "[34]\ttrain-mlogloss:3.35275\n",
      "[35]\ttrain-mlogloss:3.27859\n",
      "[36]\ttrain-mlogloss:3.20668\n",
      "[37]\ttrain-mlogloss:3.14404\n",
      "[38]\ttrain-mlogloss:3.06780\n",
      "[39]\ttrain-mlogloss:3.00145\n",
      "[40]\ttrain-mlogloss:2.93532\n",
      "[41]\ttrain-mlogloss:2.87117\n",
      "[42]\ttrain-mlogloss:2.80958\n",
      "[43]\ttrain-mlogloss:2.74674\n",
      "[44]\ttrain-mlogloss:2.68711\n",
      "[45]\ttrain-mlogloss:2.62848\n",
      "[46]\ttrain-mlogloss:2.57012\n",
      "[47]\ttrain-mlogloss:2.50893\n",
      "[48]\ttrain-mlogloss:2.45061\n",
      "[49]\ttrain-mlogloss:2.39537\n",
      "[50]\ttrain-mlogloss:2.33507\n",
      "[51]\ttrain-mlogloss:2.27720\n",
      "[52]\ttrain-mlogloss:2.21811\n",
      "[53]\ttrain-mlogloss:2.16124\n",
      "[54]\ttrain-mlogloss:2.23759\n",
      "[55]\ttrain-mlogloss:2.14340\n",
      "[56]\ttrain-mlogloss:2.07226\n",
      "[57]\ttrain-mlogloss:2.01059\n",
      "[58]\ttrain-mlogloss:1.95385\n",
      "[59]\ttrain-mlogloss:1.88531\n",
      "[60]\ttrain-mlogloss:1.82758\n",
      "[61]\ttrain-mlogloss:1.77537\n",
      "[62]\ttrain-mlogloss:1.72261\n",
      "[63]\ttrain-mlogloss:1.66105\n",
      "[64]\ttrain-mlogloss:1.60747\n",
      "[65]\ttrain-mlogloss:1.55621\n",
      "[66]\ttrain-mlogloss:1.48878\n",
      "[67]\ttrain-mlogloss:1.43503\n",
      "[68]\ttrain-mlogloss:1.38986\n",
      "[69]\ttrain-mlogloss:1.33779\n",
      "[70]\ttrain-mlogloss:1.25551\n",
      "[71]\ttrain-mlogloss:1.19609\n",
      "[72]\ttrain-mlogloss:1.15083\n",
      "[73]\ttrain-mlogloss:1.09749\n",
      "[74]\ttrain-mlogloss:1.05362\n",
      "[75]\ttrain-mlogloss:0.97987\n",
      "[76]\ttrain-mlogloss:0.90428\n",
      "[77]\ttrain-mlogloss:0.83391\n",
      "[78]\ttrain-mlogloss:0.76559\n",
      "[79]\ttrain-mlogloss:0.70751\n",
      "[80]\ttrain-mlogloss:0.65491\n",
      "[81]\ttrain-mlogloss:0.60498\n",
      "[82]\ttrain-mlogloss:0.56091\n",
      "[83]\ttrain-mlogloss:0.52266\n",
      "[84]\ttrain-mlogloss:0.48806\n",
      "[85]\ttrain-mlogloss:0.45694\n",
      "[86]\ttrain-mlogloss:0.42896\n",
      "[87]\ttrain-mlogloss:0.40425\n",
      "[88]\ttrain-mlogloss:0.38213\n",
      "[89]\ttrain-mlogloss:0.36309\n",
      "[90]\ttrain-mlogloss:0.34615\n",
      "[91]\ttrain-mlogloss:0.33074\n",
      "[92]\ttrain-mlogloss:0.31697\n",
      "[93]\ttrain-mlogloss:0.30415\n",
      "[94]\ttrain-mlogloss:0.29298\n",
      "[95]\ttrain-mlogloss:0.28301\n",
      "[96]\ttrain-mlogloss:0.27410\n",
      "[97]\ttrain-mlogloss:0.26629\n",
      "[98]\ttrain-mlogloss:0.25929\n",
      "[99]\ttrain-mlogloss:0.25322\n"
     ]
    }
   ],
   "source": [
    "num_round = 100\n",
    "evals_result = {}\n",
    "model = xgb.train(params, dtrain, num_round, evals=evals, evals_result=evals_result)"
   ],
   "metadata": {
    "collapsed": false,
    "pycharm": {
     "name": "#%%\n"
    }
   }
  },
  {
   "cell_type": "code",
   "execution_count": null,
   "outputs": [],
   "source": [],
   "metadata": {
    "collapsed": false,
    "pycharm": {
     "name": "#%%\n"
    }
   }
  },
  {
   "cell_type": "code",
   "execution_count": 12,
   "outputs": [],
   "source": [
    "with open('../data/output_data/model.pickle', 'wb') as f:\n",
    "    pickle.dump(model, f)"
   ],
   "metadata": {
    "collapsed": false,
    "pycharm": {
     "name": "#%%\n"
    }
   }
  },
  {
   "cell_type": "code",
   "execution_count": 13,
   "outputs": [],
   "source": [
    "with open('../data/output_data/train_df.pickle', 'rb') as f:\n",
    "    train_df = pickle.load(f)\n",
    "with open('../data/output_data/test_df.pickle', 'rb')as f:\n",
    "    test_df = pickle.load(f)"
   ],
   "metadata": {
    "collapsed": false,
    "pycharm": {
     "name": "#%%\n"
    }
   }
  },
  {
   "cell_type": "code",
   "execution_count": 7,
   "outputs": [],
   "source": [
    "train_df = train_df.drop('author_id', axis=1)"
   ],
   "metadata": {
    "collapsed": false,
    "pycharm": {
     "name": "#%%\n"
    }
   }
  },
  {
   "cell_type": "code",
   "execution_count": 8,
   "outputs": [
    {
     "name": "stdout",
     "output_type": "stream",
     "text": [
      "Index([  0,   1,   2,   3,   4,   5,   6,   7,   8,   9,\n",
      "       ...\n",
      "       290, 291, 292, 293, 294, 295, 296, 297, 298, 299],\n",
      "      dtype='object', length=300)\n",
      "Index([  0,   1,   2,   3,   4,   5,   6,   7,   8,   9,\n",
      "       ...\n",
      "       290, 291, 292, 293, 294, 295, 296, 297, 298, 299],\n",
      "      dtype='object', length=300)\n"
     ]
    }
   ],
   "source": [
    "print(train_df.columns)\n",
    "print(test_df.columns.astype('object'))"
   ],
   "metadata": {
    "collapsed": false,
    "pycharm": {
     "name": "#%%\n"
    }
   }
  }
 ],
 "metadata": {
  "kernelspec": {
   "display_name": "Python 3",
   "language": "python",
   "name": "python3"
  },
  "language_info": {
   "codemirror_mode": {
    "name": "ipython",
    "version": 2
   },
   "file_extension": ".py",
   "mimetype": "text/x-python",
   "name": "python",
   "nbconvert_exporter": "python",
   "pygments_lexer": "ipython2",
   "version": "2.7.6"
  }
 },
 "nbformat": 4,
 "nbformat_minor": 0
}