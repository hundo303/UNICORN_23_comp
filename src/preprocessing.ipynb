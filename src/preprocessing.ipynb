{
 "cells": [
  {
   "cell_type": "code",
   "execution_count": 1,
   "metadata": {
    "collapsed": true
   },
   "outputs": [
    {
     "name": "stderr",
     "output_type": "stream",
     "text": [
      "D:\\anaconda3\\envs\\data_analysis\\lib\\site-packages\\gensim\\similarities\\__init__.py:15: UserWarning: The gensim.similarities.levenshtein submodule is disabled, because the optional Levenshtein package <https://pypi.org/project/python-Levenshtein/> is unavailable. Install Levenhstein (e.g. `pip install python-Levenshtein`) to suppress this warning.\n",
      "  warnings.warn(msg)\n"
     ]
    }
   ],
   "source": [
    "import json\n",
    "import pickle\n",
    "import numpy as np\n",
    "import pandas as pd\n",
    "from gensim.models import KeyedVectors\n",
    "from sklearn.preprocessing import LabelEncoder\n",
    "from pprint import pprint\n",
    "from utils import *\n",
    "\n",
    "tagger = MeCab.Tagger()"
   ]
  },
  {
   "cell_type": "code",
   "execution_count": 2,
   "outputs": [],
   "source": [
    "input_data_path = '../data/input_data/'\n",
    "output_data_path = '../data/output_data/'\n",
    "outer_data_path = '../data/outer_data/'"
   ],
   "metadata": {
    "collapsed": false,
    "pycharm": {
     "name": "#%%\n"
    }
   }
  },
  {
   "cell_type": "code",
   "execution_count": 3,
   "outputs": [],
   "source": [
    "with open(input_data_path+'train_aozora_data.json') as f:\n",
    "    novels_json = json.load(f)\n",
    "\n",
    "novel_id_l = []\n",
    "author_l = []\n",
    "for author_data in novels_json:\n",
    "    for novel in author_data['novels']:\n",
    "        novel_id_l.append(novel['content_id'])\n",
    "        author_l.append(author_data['author_id'])"
   ],
   "metadata": {
    "collapsed": false,
    "pycharm": {
     "name": "#%%\n"
    }
   }
  },
  {
   "cell_type": "code",
   "execution_count": 4,
   "outputs": [],
   "source": [
    "model_path = '../data/outer_data/chive-1.2-mc5.kv'\n",
    "w2v_model = KeyedVectors.load(model_path)"
   ],
   "metadata": {
    "collapsed": false,
    "pycharm": {
     "name": "#%%\n"
    }
   }
  },
  {
   "cell_type": "code",
   "execution_count": 5,
   "outputs": [
    {
     "name": "stdout",
     "output_type": "stream",
     "text": [
      "13861"
     ]
    }
   ],
   "source": [
    "with open(input_data_path+'aozora_contents.json', encoding='utf-8') as f:\n",
    "    novel_text_dic = json.load(f)\n",
    "\n",
    "test_l = []\n",
    "i = 0\n",
    "for novel_content_id, author_id in zip(novel_id_l, author_l):\n",
    "    novel_content = novel_text_dic[novel_content_id].replace('\\n', '').replace('\\r', '').replace('\\u3000', '')\n",
    "    novel_word_l = doc_wakati(novel_content)\n",
    "    text_vec = text_to_vec(novel_word_l, w2v_model)\n",
    "\n",
    "    if text_vec is None:\n",
    "        continue\n",
    "\n",
    "    test_l.append([author_id] + list(text_vec))\n",
    "    print('\\r'+str(i), end='')\n",
    "    i+=1\n",
    "\n",
    "train_df = pd.DataFrame(test_l, columns=['author_id'] + [i for i in range(300)])"
   ],
   "metadata": {
    "collapsed": false,
    "pycharm": {
     "name": "#%%\n"
    }
   }
  },
  {
   "cell_type": "code",
   "execution_count": 6,
   "outputs": [],
   "source": [
    "with open(input_data_path+'aozora_authors.json', encoding='utf-8') as f:\n",
    "    authors_dict = json.load(f)\n",
    "le = LabelEncoder()\n",
    "le.fit(list(authors_dict.keys()))\n",
    "train_df['author_id'] = le.transform(train_df['author_id'])"
   ],
   "metadata": {
    "collapsed": false,
    "pycharm": {
     "name": "#%%\n"
    }
   }
  },
  {
   "cell_type": "code",
   "execution_count": 7,
   "outputs": [],
   "source": [
    "with open('../data/output_data/label_encoder.pickle', 'wb') as f:\n",
    "    pickle.dump(le, f)"
   ],
   "metadata": {
    "collapsed": false,
    "pycharm": {
     "name": "#%%\n"
    }
   }
  },
  {
   "cell_type": "code",
   "execution_count": 8,
   "outputs": [],
   "source": [
    "with open(output_data_path+'train_df.pickle', 'wb') as f:\n",
    "    pickle.dump(train_df, f)"
   ],
   "metadata": {
    "collapsed": false,
    "pycharm": {
     "name": "#%%\n"
    }
   }
  },
  {
   "cell_type": "code",
   "execution_count": 9,
   "outputs": [
    {
     "data": {
      "text/plain": "       author_id           0           1           2           3           4  \\\n0              0 -112.133827 -109.762787  465.392151 -157.924301  -16.924057   \n1              0 -172.398926 -224.391296  796.502441 -173.684296  -16.879339   \n2              0  -67.706779 -164.924301  544.071472 -227.151947  -71.958115   \n3              2 -102.873665 -259.469513  520.554871 -275.368561  -99.724724   \n4              3  -26.612259  -76.835815  237.728607  -43.423389  -14.492610   \n...          ...         ...         ...         ...         ...         ...   \n13857        868  -39.061272  -33.194981  124.216911  -31.266853  -27.426500   \n13858        868  -75.441772  -77.858604  264.147980 -160.411392  -81.281029   \n13859        868  -60.808270  -78.430458  267.261475 -150.407120  -77.048515   \n13860        868  -42.557716 -325.378601  852.216248 -192.011475  -34.691586   \n13861        869  -73.705376 -186.735764  358.399414 -137.267715 -102.356148   \n\n                 5           6           7           8  ...         290  \\\n0       591.945618  361.975250 -126.534622  339.810089  ...  -38.189274   \n1      1003.801514  565.185669 -221.078735  550.393921  ...  -73.855629   \n2       770.307739  583.036560 -237.669922  477.266296  ...  -49.152954   \n3       846.361633  581.307739 -217.451340  431.908600  ... -129.024963   \n4       283.665985  194.037399  -69.267273  166.528641  ...  -38.023846   \n...            ...         ...         ...         ...  ...         ...   \n13857   143.982056   92.168488  -30.151125   84.128784  ...  -18.688509   \n13858   376.551758  332.840729  -96.692841  251.082596  ...  -97.681908   \n13859   384.530853  324.920105 -128.278839  296.096008  ... -133.577789   \n13860  1149.957764  760.387451 -211.066406  561.837463  ... -176.986771   \n13861   477.925262  375.172241 -123.789490  284.884796  ... -113.841026   \n\n              291         292         293        294         295        296  \\\n0      192.175400 -184.934235  357.455811  17.801519  -84.512581   9.809142   \n1      276.672455 -302.772125  585.884460  55.069267  -99.017212 -35.038902   \n2      221.674881 -289.982941  489.691498  33.718834 -114.547760 -29.271347   \n3      284.965881 -306.776428  447.656036  93.829048  -78.314171 -62.068214   \n4       58.870335  -80.066513  155.247681  49.369865  -28.532068  -7.371575   \n...           ...         ...         ...        ...         ...        ...   \n13857   12.885788  -34.294350   65.770821   4.551261  -20.840319  -3.647400   \n13858  112.585442 -147.852798  185.304108  56.416836   14.123760 -23.609854   \n13859  123.531761 -175.936523  205.229004  18.520966  -28.218449 -56.361561   \n13860  374.603271 -444.007416  529.182861  46.357437  -23.589565 -73.779083   \n13861  194.123199 -271.126801  275.147644  97.032898   39.692719 -56.711193   \n\n              297        298         299  \n0     -116.553688  12.258219  312.771667  \n1     -223.876602  42.310093  512.034729  \n2     -167.962677  94.906235  414.354126  \n3      -83.681923  79.618904  403.603912  \n4      -83.570236   9.611092  148.603287  \n...           ...        ...         ...  \n13857  -28.524019  12.114426   76.176025  \n13858  -94.893280 -37.999367  252.542221  \n13859  -36.037376 -29.129564  220.083252  \n13860 -225.363708  -7.610521  458.546967  \n13861   -2.633997   5.401500  182.851532  \n\n[13862 rows x 301 columns]",
      "text/html": "<div>\n<style scoped>\n    .dataframe tbody tr th:only-of-type {\n        vertical-align: middle;\n    }\n\n    .dataframe tbody tr th {\n        vertical-align: top;\n    }\n\n    .dataframe thead th {\n        text-align: right;\n    }\n</style>\n<table border=\"1\" class=\"dataframe\">\n  <thead>\n    <tr style=\"text-align: right;\">\n      <th></th>\n      <th>author_id</th>\n      <th>0</th>\n      <th>1</th>\n      <th>2</th>\n      <th>3</th>\n      <th>4</th>\n      <th>5</th>\n      <th>6</th>\n      <th>7</th>\n      <th>8</th>\n      <th>...</th>\n      <th>290</th>\n      <th>291</th>\n      <th>292</th>\n      <th>293</th>\n      <th>294</th>\n      <th>295</th>\n      <th>296</th>\n      <th>297</th>\n      <th>298</th>\n      <th>299</th>\n    </tr>\n  </thead>\n  <tbody>\n    <tr>\n      <th>0</th>\n      <td>0</td>\n      <td>-112.133827</td>\n      <td>-109.762787</td>\n      <td>465.392151</td>\n      <td>-157.924301</td>\n      <td>-16.924057</td>\n      <td>591.945618</td>\n      <td>361.975250</td>\n      <td>-126.534622</td>\n      <td>339.810089</td>\n      <td>...</td>\n      <td>-38.189274</td>\n      <td>192.175400</td>\n      <td>-184.934235</td>\n      <td>357.455811</td>\n      <td>17.801519</td>\n      <td>-84.512581</td>\n      <td>9.809142</td>\n      <td>-116.553688</td>\n      <td>12.258219</td>\n      <td>312.771667</td>\n    </tr>\n    <tr>\n      <th>1</th>\n      <td>0</td>\n      <td>-172.398926</td>\n      <td>-224.391296</td>\n      <td>796.502441</td>\n      <td>-173.684296</td>\n      <td>-16.879339</td>\n      <td>1003.801514</td>\n      <td>565.185669</td>\n      <td>-221.078735</td>\n      <td>550.393921</td>\n      <td>...</td>\n      <td>-73.855629</td>\n      <td>276.672455</td>\n      <td>-302.772125</td>\n      <td>585.884460</td>\n      <td>55.069267</td>\n      <td>-99.017212</td>\n      <td>-35.038902</td>\n      <td>-223.876602</td>\n      <td>42.310093</td>\n      <td>512.034729</td>\n    </tr>\n    <tr>\n      <th>2</th>\n      <td>0</td>\n      <td>-67.706779</td>\n      <td>-164.924301</td>\n      <td>544.071472</td>\n      <td>-227.151947</td>\n      <td>-71.958115</td>\n      <td>770.307739</td>\n      <td>583.036560</td>\n      <td>-237.669922</td>\n      <td>477.266296</td>\n      <td>...</td>\n      <td>-49.152954</td>\n      <td>221.674881</td>\n      <td>-289.982941</td>\n      <td>489.691498</td>\n      <td>33.718834</td>\n      <td>-114.547760</td>\n      <td>-29.271347</td>\n      <td>-167.962677</td>\n      <td>94.906235</td>\n      <td>414.354126</td>\n    </tr>\n    <tr>\n      <th>3</th>\n      <td>2</td>\n      <td>-102.873665</td>\n      <td>-259.469513</td>\n      <td>520.554871</td>\n      <td>-275.368561</td>\n      <td>-99.724724</td>\n      <td>846.361633</td>\n      <td>581.307739</td>\n      <td>-217.451340</td>\n      <td>431.908600</td>\n      <td>...</td>\n      <td>-129.024963</td>\n      <td>284.965881</td>\n      <td>-306.776428</td>\n      <td>447.656036</td>\n      <td>93.829048</td>\n      <td>-78.314171</td>\n      <td>-62.068214</td>\n      <td>-83.681923</td>\n      <td>79.618904</td>\n      <td>403.603912</td>\n    </tr>\n    <tr>\n      <th>4</th>\n      <td>3</td>\n      <td>-26.612259</td>\n      <td>-76.835815</td>\n      <td>237.728607</td>\n      <td>-43.423389</td>\n      <td>-14.492610</td>\n      <td>283.665985</td>\n      <td>194.037399</td>\n      <td>-69.267273</td>\n      <td>166.528641</td>\n      <td>...</td>\n      <td>-38.023846</td>\n      <td>58.870335</td>\n      <td>-80.066513</td>\n      <td>155.247681</td>\n      <td>49.369865</td>\n      <td>-28.532068</td>\n      <td>-7.371575</td>\n      <td>-83.570236</td>\n      <td>9.611092</td>\n      <td>148.603287</td>\n    </tr>\n    <tr>\n      <th>...</th>\n      <td>...</td>\n      <td>...</td>\n      <td>...</td>\n      <td>...</td>\n      <td>...</td>\n      <td>...</td>\n      <td>...</td>\n      <td>...</td>\n      <td>...</td>\n      <td>...</td>\n      <td>...</td>\n      <td>...</td>\n      <td>...</td>\n      <td>...</td>\n      <td>...</td>\n      <td>...</td>\n      <td>...</td>\n      <td>...</td>\n      <td>...</td>\n      <td>...</td>\n      <td>...</td>\n    </tr>\n    <tr>\n      <th>13857</th>\n      <td>868</td>\n      <td>-39.061272</td>\n      <td>-33.194981</td>\n      <td>124.216911</td>\n      <td>-31.266853</td>\n      <td>-27.426500</td>\n      <td>143.982056</td>\n      <td>92.168488</td>\n      <td>-30.151125</td>\n      <td>84.128784</td>\n      <td>...</td>\n      <td>-18.688509</td>\n      <td>12.885788</td>\n      <td>-34.294350</td>\n      <td>65.770821</td>\n      <td>4.551261</td>\n      <td>-20.840319</td>\n      <td>-3.647400</td>\n      <td>-28.524019</td>\n      <td>12.114426</td>\n      <td>76.176025</td>\n    </tr>\n    <tr>\n      <th>13858</th>\n      <td>868</td>\n      <td>-75.441772</td>\n      <td>-77.858604</td>\n      <td>264.147980</td>\n      <td>-160.411392</td>\n      <td>-81.281029</td>\n      <td>376.551758</td>\n      <td>332.840729</td>\n      <td>-96.692841</td>\n      <td>251.082596</td>\n      <td>...</td>\n      <td>-97.681908</td>\n      <td>112.585442</td>\n      <td>-147.852798</td>\n      <td>185.304108</td>\n      <td>56.416836</td>\n      <td>14.123760</td>\n      <td>-23.609854</td>\n      <td>-94.893280</td>\n      <td>-37.999367</td>\n      <td>252.542221</td>\n    </tr>\n    <tr>\n      <th>13859</th>\n      <td>868</td>\n      <td>-60.808270</td>\n      <td>-78.430458</td>\n      <td>267.261475</td>\n      <td>-150.407120</td>\n      <td>-77.048515</td>\n      <td>384.530853</td>\n      <td>324.920105</td>\n      <td>-128.278839</td>\n      <td>296.096008</td>\n      <td>...</td>\n      <td>-133.577789</td>\n      <td>123.531761</td>\n      <td>-175.936523</td>\n      <td>205.229004</td>\n      <td>18.520966</td>\n      <td>-28.218449</td>\n      <td>-56.361561</td>\n      <td>-36.037376</td>\n      <td>-29.129564</td>\n      <td>220.083252</td>\n    </tr>\n    <tr>\n      <th>13860</th>\n      <td>868</td>\n      <td>-42.557716</td>\n      <td>-325.378601</td>\n      <td>852.216248</td>\n      <td>-192.011475</td>\n      <td>-34.691586</td>\n      <td>1149.957764</td>\n      <td>760.387451</td>\n      <td>-211.066406</td>\n      <td>561.837463</td>\n      <td>...</td>\n      <td>-176.986771</td>\n      <td>374.603271</td>\n      <td>-444.007416</td>\n      <td>529.182861</td>\n      <td>46.357437</td>\n      <td>-23.589565</td>\n      <td>-73.779083</td>\n      <td>-225.363708</td>\n      <td>-7.610521</td>\n      <td>458.546967</td>\n    </tr>\n    <tr>\n      <th>13861</th>\n      <td>869</td>\n      <td>-73.705376</td>\n      <td>-186.735764</td>\n      <td>358.399414</td>\n      <td>-137.267715</td>\n      <td>-102.356148</td>\n      <td>477.925262</td>\n      <td>375.172241</td>\n      <td>-123.789490</td>\n      <td>284.884796</td>\n      <td>...</td>\n      <td>-113.841026</td>\n      <td>194.123199</td>\n      <td>-271.126801</td>\n      <td>275.147644</td>\n      <td>97.032898</td>\n      <td>39.692719</td>\n      <td>-56.711193</td>\n      <td>-2.633997</td>\n      <td>5.401500</td>\n      <td>182.851532</td>\n    </tr>\n  </tbody>\n</table>\n<p>13862 rows × 301 columns</p>\n</div>"
     },
     "execution_count": 9,
     "metadata": {},
     "output_type": "execute_result"
    }
   ],
   "source": [
    "train_df"
   ],
   "metadata": {
    "collapsed": false,
    "pycharm": {
     "name": "#%%\n"
    }
   }
  },
  {
   "cell_type": "code",
   "execution_count": 14,
   "outputs": [
    {
     "data": {
      "text/plain": "            0           1           2           3          4            5    \\\n0    -34.749607 -217.841919  492.708710 -150.425369  56.124329   609.579529   \n1    -69.822678  -63.136490  351.433258    2.645442  25.182114   277.310394   \n2    -48.095352  -46.986305  499.996277 -224.369156 -44.976654   654.668091   \n3   -122.358849 -197.311768  835.409912 -248.343643 -38.418217  1024.928589   \n4   -132.708054 -182.505478  624.345581 -189.538513 -27.550827   897.433228   \n..          ...         ...         ...         ...        ...          ...   \n543  -30.212027  -62.102764  229.267288  -65.241951 -25.118748   340.062500   \n544  -26.898439  -68.969589  243.487381  -82.365669  10.187095   279.653931   \n545  -28.189156  -35.155735  125.416290  -15.487114   6.063377   125.886749   \n546  -94.718971 -127.314781  524.823547  -53.116463  38.460175   497.531921   \n547  -31.724451  -28.161894  136.207794  -49.372486 -24.745106   166.064423   \n\n            6           7           8           9    ...        290  \\\n0    492.638824  -98.105240  457.823120 -336.838074  ... -88.017319   \n1     91.766357  -44.883926  170.521774 -144.073669  ... -33.936909   \n2    530.025452  -56.252655  441.355194 -337.981659  ... -70.220741   \n3    529.685242 -185.226089  499.097534 -481.770050  ... -32.542843   \n4    608.874817 -187.248169  471.478577 -420.250793  ... -58.654812   \n..          ...         ...         ...         ...  ...        ...   \n543  280.279114 -132.817459  209.913498 -212.883636  ... -30.571115   \n544  229.362671  -56.927586  183.669617 -166.005035  ... -24.230587   \n545   51.905651  -17.445158   78.082024  -73.932556  ...  -3.629410   \n546  177.434708 -121.534073  276.677338 -344.934509  ...   8.480258   \n547  149.014053  -38.621273  109.627556 -104.396843  ... -24.285427   \n\n            291         292         293        294         295        296  \\\n0    136.950333 -183.918427  404.317444   2.175942 -109.304703  37.118591   \n1     72.949760 -156.965805  233.196945 -71.126328    4.324072   5.187243   \n2    182.682587 -194.136826  368.106476  85.588051  -28.405197  29.644566   \n3    276.022583 -284.785828  535.537109  20.867434 -173.357208  57.438450   \n4    235.929443 -275.715912  476.217072  71.522057  -85.749290 -31.858097   \n..          ...         ...         ...        ...         ...        ...   \n543  115.062340 -109.842415  185.753174  33.738625  -34.878052  21.567463   \n544   96.883347  -87.069756  169.617981 -28.779482  -33.748997 -12.120331   \n545   28.858280  -63.481209   90.364395  -8.135536   -3.711974  -3.844317   \n546  146.624191 -218.897415  344.743500  10.261924  -15.420820  -0.986041   \n547   44.114574  -66.861481   96.006508  21.928524  -19.100672  12.830740   \n\n            297         298         299  \n0   -188.553864   44.708824  397.738556  \n1    -29.796396  114.808472  255.200150  \n2   -129.618530   45.164185  270.153870  \n3   -268.337738   37.144539  524.585754  \n4   -181.736908   35.227646  461.789825  \n..          ...         ...         ...  \n543  -89.767921   19.864609  144.914398  \n544  -70.996719   38.664112  140.356262  \n545  -24.210222   12.298188   77.785278  \n546  -18.372000   76.771812  385.276703  \n547  -33.157688   14.406441  114.808800  \n\n[548 rows x 300 columns]",
      "text/html": "<div>\n<style scoped>\n    .dataframe tbody tr th:only-of-type {\n        vertical-align: middle;\n    }\n\n    .dataframe tbody tr th {\n        vertical-align: top;\n    }\n\n    .dataframe thead th {\n        text-align: right;\n    }\n</style>\n<table border=\"1\" class=\"dataframe\">\n  <thead>\n    <tr style=\"text-align: right;\">\n      <th></th>\n      <th>0</th>\n      <th>1</th>\n      <th>2</th>\n      <th>3</th>\n      <th>4</th>\n      <th>5</th>\n      <th>6</th>\n      <th>7</th>\n      <th>8</th>\n      <th>9</th>\n      <th>...</th>\n      <th>290</th>\n      <th>291</th>\n      <th>292</th>\n      <th>293</th>\n      <th>294</th>\n      <th>295</th>\n      <th>296</th>\n      <th>297</th>\n      <th>298</th>\n      <th>299</th>\n    </tr>\n  </thead>\n  <tbody>\n    <tr>\n      <th>0</th>\n      <td>-34.749607</td>\n      <td>-217.841919</td>\n      <td>492.708710</td>\n      <td>-150.425369</td>\n      <td>56.124329</td>\n      <td>609.579529</td>\n      <td>492.638824</td>\n      <td>-98.105240</td>\n      <td>457.823120</td>\n      <td>-336.838074</td>\n      <td>...</td>\n      <td>-88.017319</td>\n      <td>136.950333</td>\n      <td>-183.918427</td>\n      <td>404.317444</td>\n      <td>2.175942</td>\n      <td>-109.304703</td>\n      <td>37.118591</td>\n      <td>-188.553864</td>\n      <td>44.708824</td>\n      <td>397.738556</td>\n    </tr>\n    <tr>\n      <th>1</th>\n      <td>-69.822678</td>\n      <td>-63.136490</td>\n      <td>351.433258</td>\n      <td>2.645442</td>\n      <td>25.182114</td>\n      <td>277.310394</td>\n      <td>91.766357</td>\n      <td>-44.883926</td>\n      <td>170.521774</td>\n      <td>-144.073669</td>\n      <td>...</td>\n      <td>-33.936909</td>\n      <td>72.949760</td>\n      <td>-156.965805</td>\n      <td>233.196945</td>\n      <td>-71.126328</td>\n      <td>4.324072</td>\n      <td>5.187243</td>\n      <td>-29.796396</td>\n      <td>114.808472</td>\n      <td>255.200150</td>\n    </tr>\n    <tr>\n      <th>2</th>\n      <td>-48.095352</td>\n      <td>-46.986305</td>\n      <td>499.996277</td>\n      <td>-224.369156</td>\n      <td>-44.976654</td>\n      <td>654.668091</td>\n      <td>530.025452</td>\n      <td>-56.252655</td>\n      <td>441.355194</td>\n      <td>-337.981659</td>\n      <td>...</td>\n      <td>-70.220741</td>\n      <td>182.682587</td>\n      <td>-194.136826</td>\n      <td>368.106476</td>\n      <td>85.588051</td>\n      <td>-28.405197</td>\n      <td>29.644566</td>\n      <td>-129.618530</td>\n      <td>45.164185</td>\n      <td>270.153870</td>\n    </tr>\n    <tr>\n      <th>3</th>\n      <td>-122.358849</td>\n      <td>-197.311768</td>\n      <td>835.409912</td>\n      <td>-248.343643</td>\n      <td>-38.418217</td>\n      <td>1024.928589</td>\n      <td>529.685242</td>\n      <td>-185.226089</td>\n      <td>499.097534</td>\n      <td>-481.770050</td>\n      <td>...</td>\n      <td>-32.542843</td>\n      <td>276.022583</td>\n      <td>-284.785828</td>\n      <td>535.537109</td>\n      <td>20.867434</td>\n      <td>-173.357208</td>\n      <td>57.438450</td>\n      <td>-268.337738</td>\n      <td>37.144539</td>\n      <td>524.585754</td>\n    </tr>\n    <tr>\n      <th>4</th>\n      <td>-132.708054</td>\n      <td>-182.505478</td>\n      <td>624.345581</td>\n      <td>-189.538513</td>\n      <td>-27.550827</td>\n      <td>897.433228</td>\n      <td>608.874817</td>\n      <td>-187.248169</td>\n      <td>471.478577</td>\n      <td>-420.250793</td>\n      <td>...</td>\n      <td>-58.654812</td>\n      <td>235.929443</td>\n      <td>-275.715912</td>\n      <td>476.217072</td>\n      <td>71.522057</td>\n      <td>-85.749290</td>\n      <td>-31.858097</td>\n      <td>-181.736908</td>\n      <td>35.227646</td>\n      <td>461.789825</td>\n    </tr>\n    <tr>\n      <th>...</th>\n      <td>...</td>\n      <td>...</td>\n      <td>...</td>\n      <td>...</td>\n      <td>...</td>\n      <td>...</td>\n      <td>...</td>\n      <td>...</td>\n      <td>...</td>\n      <td>...</td>\n      <td>...</td>\n      <td>...</td>\n      <td>...</td>\n      <td>...</td>\n      <td>...</td>\n      <td>...</td>\n      <td>...</td>\n      <td>...</td>\n      <td>...</td>\n      <td>...</td>\n      <td>...</td>\n    </tr>\n    <tr>\n      <th>543</th>\n      <td>-30.212027</td>\n      <td>-62.102764</td>\n      <td>229.267288</td>\n      <td>-65.241951</td>\n      <td>-25.118748</td>\n      <td>340.062500</td>\n      <td>280.279114</td>\n      <td>-132.817459</td>\n      <td>209.913498</td>\n      <td>-212.883636</td>\n      <td>...</td>\n      <td>-30.571115</td>\n      <td>115.062340</td>\n      <td>-109.842415</td>\n      <td>185.753174</td>\n      <td>33.738625</td>\n      <td>-34.878052</td>\n      <td>21.567463</td>\n      <td>-89.767921</td>\n      <td>19.864609</td>\n      <td>144.914398</td>\n    </tr>\n    <tr>\n      <th>544</th>\n      <td>-26.898439</td>\n      <td>-68.969589</td>\n      <td>243.487381</td>\n      <td>-82.365669</td>\n      <td>10.187095</td>\n      <td>279.653931</td>\n      <td>229.362671</td>\n      <td>-56.927586</td>\n      <td>183.669617</td>\n      <td>-166.005035</td>\n      <td>...</td>\n      <td>-24.230587</td>\n      <td>96.883347</td>\n      <td>-87.069756</td>\n      <td>169.617981</td>\n      <td>-28.779482</td>\n      <td>-33.748997</td>\n      <td>-12.120331</td>\n      <td>-70.996719</td>\n      <td>38.664112</td>\n      <td>140.356262</td>\n    </tr>\n    <tr>\n      <th>545</th>\n      <td>-28.189156</td>\n      <td>-35.155735</td>\n      <td>125.416290</td>\n      <td>-15.487114</td>\n      <td>6.063377</td>\n      <td>125.886749</td>\n      <td>51.905651</td>\n      <td>-17.445158</td>\n      <td>78.082024</td>\n      <td>-73.932556</td>\n      <td>...</td>\n      <td>-3.629410</td>\n      <td>28.858280</td>\n      <td>-63.481209</td>\n      <td>90.364395</td>\n      <td>-8.135536</td>\n      <td>-3.711974</td>\n      <td>-3.844317</td>\n      <td>-24.210222</td>\n      <td>12.298188</td>\n      <td>77.785278</td>\n    </tr>\n    <tr>\n      <th>546</th>\n      <td>-94.718971</td>\n      <td>-127.314781</td>\n      <td>524.823547</td>\n      <td>-53.116463</td>\n      <td>38.460175</td>\n      <td>497.531921</td>\n      <td>177.434708</td>\n      <td>-121.534073</td>\n      <td>276.677338</td>\n      <td>-344.934509</td>\n      <td>...</td>\n      <td>8.480258</td>\n      <td>146.624191</td>\n      <td>-218.897415</td>\n      <td>344.743500</td>\n      <td>10.261924</td>\n      <td>-15.420820</td>\n      <td>-0.986041</td>\n      <td>-18.372000</td>\n      <td>76.771812</td>\n      <td>385.276703</td>\n    </tr>\n    <tr>\n      <th>547</th>\n      <td>-31.724451</td>\n      <td>-28.161894</td>\n      <td>136.207794</td>\n      <td>-49.372486</td>\n      <td>-24.745106</td>\n      <td>166.064423</td>\n      <td>149.014053</td>\n      <td>-38.621273</td>\n      <td>109.627556</td>\n      <td>-104.396843</td>\n      <td>...</td>\n      <td>-24.285427</td>\n      <td>44.114574</td>\n      <td>-66.861481</td>\n      <td>96.006508</td>\n      <td>21.928524</td>\n      <td>-19.100672</td>\n      <td>12.830740</td>\n      <td>-33.157688</td>\n      <td>14.406441</td>\n      <td>114.808800</td>\n    </tr>\n  </tbody>\n</table>\n<p>548 rows × 300 columns</p>\n</div>"
     },
     "execution_count": 14,
     "metadata": {},
     "output_type": "execute_result"
    }
   ],
   "source": [
    "#ここからテストデータの前処理\n",
    "with open(input_data_path+'test_q.json', encoding='utf-8') as f:\n",
    "    test_json = json.load(f)\n",
    "with open(input_data_path+'test_aozora_data.json', encoding='utf-8')as f:\n",
    "    title2con_dict = json.load(f)\n",
    "\n",
    "candis_list = []\n",
    "test_l = []\n",
    "for test_data in test_json:\n",
    "    candis_list.append(le.transform(test_data['candidates']))\n",
    "    novel_content_id = title2con_dict[test_data['title_id']]\n",
    "    novel_content = novel_text_dic[novel_content_id].replace('\\n', '').replace('\\r', '').replace('\\u3000', '')\n",
    "    novel_word_l = doc_wakati(novel_content)\n",
    "    text_vec = text_to_vec(novel_word_l, w2v_model)\n",
    "\n",
    "    if text_vec is None:\n",
    "        test_l.append([0 for _ in range(300)])\n",
    "        continue\n",
    "\n",
    "    test_l.append(list(text_vec))\n",
    "\n",
    "columns = pd.Index([i for i in range(300)], dtype='object')\n",
    "test_df = pd.DataFrame(test_l, columns=columns)\n",
    "test_df"
   ],
   "metadata": {
    "collapsed": false,
    "pycharm": {
     "name": "#%%\n"
    }
   }
  },
  {
   "cell_type": "code",
   "execution_count": 15,
   "outputs": [],
   "source": [
    "# with open(output_data_path+'test_df.pickle', 'wb') as f:\n",
    "#     pickle.dump(test_df, f)\n",
    "# with open(output_data_path+'test_df.pickle', 'rb') as f:\n",
    "#     test_df = pickle.load(f)\n",
    "\n",
    "with open(output_data_path+'candis_list.pickle', 'wb') as f:\n",
    "    pickle.dump(list(map(list, candis_list)), f)\n",
    "\n",
    "test_df.to_pickle(output_data_path+'test_df.pickle')"
   ],
   "metadata": {
    "collapsed": false,
    "pycharm": {
     "name": "#%%\n"
    }
   }
  }
 ],
 "metadata": {
  "kernelspec": {
   "display_name": "Python 3",
   "language": "python",
   "name": "python3"
  },
  "language_info": {
   "codemirror_mode": {
    "name": "ipython",
    "version": 2
   },
   "file_extension": ".py",
   "mimetype": "text/x-python",
   "name": "python",
   "nbconvert_exporter": "python",
   "pygments_lexer": "ipython2",
   "version": "2.7.6"
  }
 },
 "nbformat": 4,
 "nbformat_minor": 0
}