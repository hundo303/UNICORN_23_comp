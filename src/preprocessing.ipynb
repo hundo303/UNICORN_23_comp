{
 "cells": [
  {
   "cell_type": "code",
   "execution_count": 12,
   "metadata": {
    "collapsed": true
   },
   "outputs": [],
   "source": [
    "import json\n",
    "import pickle\n",
    "import numpy as np\n",
    "import pandas as pd\n",
    "from gensim.models import KeyedVectors\n",
    "from sklearn.preprocessing import LabelEncoder\n",
    "from pprint import pprint\n",
    "from utils import *\n",
    "\n",
    "tagger = MeCab.Tagger()"
   ]
  },
  {
   "cell_type": "code",
   "execution_count": 13,
   "outputs": [],
   "source": [
    "input_data_path = '../data/input_data/'\n",
    "output_data_path = '../data/output_data/'\n",
    "outer_data_path = '../data/outer_data/'"
   ],
   "metadata": {
    "collapsed": false,
    "pycharm": {
     "name": "#%%\n"
    }
   }
  },
  {
   "cell_type": "code",
   "execution_count": 14,
   "outputs": [],
   "source": [
    "with open(input_data_path+'train_aozora_data.json') as f:\n",
    "    novels_json = json.load(f)\n",
    "\n",
    "novel_id_l = []\n",
    "author_l = []\n",
    "for author_data in novels_json:\n",
    "    for novel in author_data['novels']:\n",
    "        novel_id_l.append(novel['content_id'])\n",
    "        author_l.append(author_data['author_id'])"
   ],
   "metadata": {
    "collapsed": false,
    "pycharm": {
     "name": "#%%\n"
    }
   }
  },
  {
   "cell_type": "code",
   "execution_count": 4,
   "outputs": [],
   "source": [
    "model_path = '../data/outer_data/chive-1.2-mc5.kv'\n",
    "w2v_model = KeyedVectors.load(model_path)"
   ],
   "metadata": {
    "collapsed": false,
    "pycharm": {
     "name": "#%%\n"
    }
   }
  },
  {
   "cell_type": "code",
   "execution_count": 15,
   "outputs": [
    {
     "name": "stdout",
     "output_type": "stream",
     "text": [
      "13861"
     ]
    }
   ],
   "source": [
    "with open(input_data_path+'aozora_contents.json', encoding='utf-8') as f:\n",
    "    novel_text_dic = json.load(f)\n",
    "\n",
    "test_l = []\n",
    "i = 0\n",
    "for novel_content_id, author_id in zip(novel_id_l, author_l):\n",
    "    novel_content = novel_text_dic[novel_content_id].replace('\\n', '').replace('\\r', '').replace('\\u3000', '')\n",
    "    novel_word_l = doc_wakati(novel_content)\n",
    "    text_vec = text_to_vec(novel_word_l, w2v_model)\n",
    "\n",
    "    if text_vec is None:\n",
    "        continue\n",
    "\n",
    "    test_l.append([author_id] + list(text_vec))\n",
    "    print('\\r'+str(i), end='')\n",
    "    i+=1\n",
    "\n",
    "train_df = pd.DataFrame(test_l, columns=['author_id'] + [i for i in range(len(text_vec))])"
   ],
   "metadata": {
    "collapsed": false,
    "pycharm": {
     "name": "#%%\n"
    }
   }
  },
  {
   "cell_type": "code",
   "execution_count": 16,
   "outputs": [],
   "source": [
    "with open(input_data_path+'aozora_authors.json', encoding='utf-8') as f:\n",
    "    authors_dict = json.load(f)\n",
    "le = LabelEncoder()\n",
    "le.fit(list(authors_dict.keys()))\n",
    "train_df['author_id'] = le.transform(train_df['author_id'])"
   ],
   "metadata": {
    "collapsed": false,
    "pycharm": {
     "name": "#%%\n"
    }
   }
  },
  {
   "cell_type": "code",
   "execution_count": 20,
   "outputs": [],
   "source": [
    "with open(output_data_path+'train_df.pickle', 'wb') as f:\n",
    "    pickle.dump(train_df, f)"
   ],
   "metadata": {
    "collapsed": false,
    "pycharm": {
     "name": "#%%\n"
    }
   }
  },
  {
   "cell_type": "code",
   "execution_count": 23,
   "outputs": [
    {
     "data": {
      "text/plain": "869"
     },
     "execution_count": 23,
     "metadata": {},
     "output_type": "execute_result"
    }
   ],
   "source": [
    "train_df['author_id'].max()"
   ],
   "metadata": {
    "collapsed": false,
    "pycharm": {
     "name": "#%%\n"
    }
   }
  },
  {
   "cell_type": "code",
   "execution_count": 24,
   "outputs": [],
   "source": [
    "#ここからテストデータの前処理\n",
    "with open(input_data_path+'test_q.json', encoding='utf-8') as f:\n",
    "    test_json = json.load(f)\n",
    "with open(input_data_path+'test_aozora_data.json', encoding='utf-8')as f:\n",
    "    title2con_dict = json.load(f)\n",
    "\n",
    "candis_list = []\n",
    "test_l = []\n",
    "for test_data in test_json:\n",
    "    candis_list.append(le.transform(test_data['candidates']))\n",
    "    novel_content_id = title2con_dict[test_data['title_id']]\n",
    "    novel_content = novel_text_dic[novel_content_id].replace('\\n', '').replace('\\r', '').replace('\\u3000', '')\n",
    "    novel_word_l = doc_wakati(novel_content)\n",
    "    text_vec = text_to_vec(novel_word_l, w2v_model)\n",
    "\n",
    "    if text_vec is None:\n",
    "        continue\n",
    "\n",
    "    test_l.append(list(text_vec))\n",
    "\n",
    "test_df = pd.DataFrame(test_l, columns=[i for i in range(len(text_vec))])"
   ],
   "metadata": {
    "collapsed": false,
    "pycharm": {
     "name": "#%%\n"
    }
   }
  },
  {
   "cell_type": "code",
   "execution_count": 30,
   "outputs": [],
   "source": [
    "with open(output_data_path+'test_df.pickle', 'wb') as f:\n",
    "    pickle.dump(test_df, f)\n",
    "\n",
    "with open(output_data_path+'candis_list.pickle', 'wb') as f:\n",
    "    pickle.dump(list(map(list, candis_list)), f)"
   ],
   "metadata": {
    "collapsed": false,
    "pycharm": {
     "name": "#%%\n"
    }
   }
  }
 ],
 "metadata": {
  "kernelspec": {
   "display_name": "Python 3",
   "language": "python",
   "name": "python3"
  },
  "language_info": {
   "codemirror_mode": {
    "name": "ipython",
    "version": 2
   },
   "file_extension": ".py",
   "mimetype": "text/x-python",
   "name": "python",
   "nbconvert_exporter": "python",
   "pygments_lexer": "ipython2",
   "version": "2.7.6"
  }
 },
 "nbformat": 4,
 "nbformat_minor": 0
}