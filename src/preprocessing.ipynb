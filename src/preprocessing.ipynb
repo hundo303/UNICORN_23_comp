{
 "cells": [
  {
   "cell_type": "code",
   "execution_count": 1,
   "metadata": {
    "collapsed": true
   },
   "outputs": [
    {
     "name": "stderr",
     "output_type": "stream",
     "text": [
      "D:\\anaconda3\\envs\\data_analysis\\lib\\site-packages\\gensim\\similarities\\__init__.py:15: UserWarning: The gensim.similarities.levenshtein submodule is disabled, because the optional Levenshtein package <https://pypi.org/project/python-Levenshtein/> is unavailable. Install Levenhstein (e.g. `pip install python-Levenshtein`) to suppress this warning.\n",
      "  warnings.warn(msg)\n"
     ]
    }
   ],
   "source": [
    "import json\n",
    "import pickle\n",
    "import numpy as np\n",
    "import pandas as pd\n",
    "from gensim.models import KeyedVectors\n",
    "from pprint import pprint\n",
    "from utils import *\n",
    "\n",
    "tagger = MeCab.Tagger()"
   ]
  },
  {
   "cell_type": "code",
   "execution_count": 3,
   "outputs": [],
   "source": [
    "input_data_path = '../data/input_data/'\n",
    "output_data_path = '../data/output_data/'\n",
    "outer_data_path = '../data/outer_data/'"
   ],
   "metadata": {
    "collapsed": false,
    "pycharm": {
     "name": "#%%\n"
    }
   }
  },
  {
   "cell_type": "code",
   "execution_count": 4,
   "outputs": [],
   "source": [
    "with open(input_data_path+'train_aozora_data.json') as f:\n",
    "    novels_json = json.load(f)\n",
    "\n",
    "novel_id_l = []\n",
    "author_l = []\n",
    "for author_data in novels_json:\n",
    "    for novel in author_data['novels']:\n",
    "        novel_id_l.append(novel['content_id'])\n",
    "        author_l.append(author_data['author_id'])"
   ],
   "metadata": {
    "collapsed": false,
    "pycharm": {
     "name": "#%%\n"
    }
   }
  },
  {
   "cell_type": "code",
   "execution_count": 7,
   "outputs": [],
   "source": [
    "model_path = '../data/outer_data/chive-1.2-mc5.kv'\n",
    "w2v_model = KeyedVectors.load(model_path)"
   ],
   "metadata": {
    "collapsed": false,
    "pycharm": {
     "name": "#%%\n"
    }
   }
  },
  {
   "cell_type": "code",
   "execution_count": 22,
   "outputs": [
    {
     "ename": "UFuncTypeError",
     "evalue": "ufunc 'add' did not contain a loop with signature matching types (dtype('<U32'), dtype('<U32')) -> dtype('<U32')",
     "output_type": "error",
     "traceback": [
      "\u001B[1;31m---------------------------------------------------------------------------\u001B[0m",
      "\u001B[1;31mUFuncTypeError\u001B[0m                            Traceback (most recent call last)",
      "\u001B[1;32m<ipython-input-22-3420686ea842>\u001B[0m in \u001B[0;36m<module>\u001B[1;34m\u001B[0m\n\u001B[0;32m      8\u001B[0m     \u001B[0mnovel_word_l\u001B[0m \u001B[1;33m=\u001B[0m \u001B[0mdoc_wakati\u001B[0m\u001B[1;33m(\u001B[0m\u001B[0mnovel_content\u001B[0m\u001B[1;33m)\u001B[0m\u001B[1;33m\u001B[0m\u001B[1;33m\u001B[0m\u001B[0m\n\u001B[0;32m      9\u001B[0m     \u001B[0mtext_vec\u001B[0m \u001B[1;33m=\u001B[0m \u001B[0mtext_to_vec\u001B[0m\u001B[1;33m(\u001B[0m\u001B[0mnovel_word_l\u001B[0m\u001B[1;33m,\u001B[0m \u001B[0mw2v_model\u001B[0m\u001B[1;33m)\u001B[0m\u001B[1;33m\u001B[0m\u001B[1;33m\u001B[0m\u001B[0m\n\u001B[1;32m---> 10\u001B[1;33m     \u001B[0mtrain_l\u001B[0m\u001B[1;33m.\u001B[0m\u001B[0mappend\u001B[0m\u001B[1;33m(\u001B[0m\u001B[0mauthor_id\u001B[0m\u001B[1;33m+\u001B[0m\u001B[0mtext_vec\u001B[0m\u001B[1;33m)\u001B[0m\u001B[1;33m\u001B[0m\u001B[1;33m\u001B[0m\u001B[0m\n\u001B[0m\u001B[0;32m     11\u001B[0m     \u001B[0mprint\u001B[0m\u001B[1;33m(\u001B[0m\u001B[1;34m'\\r'\u001B[0m\u001B[1;33m+\u001B[0m\u001B[0mstr\u001B[0m\u001B[1;33m(\u001B[0m\u001B[0mi\u001B[0m\u001B[1;33m)\u001B[0m\u001B[1;33m,\u001B[0m \u001B[0mend\u001B[0m\u001B[1;33m=\u001B[0m\u001B[1;34m''\u001B[0m\u001B[1;33m)\u001B[0m\u001B[1;33m\u001B[0m\u001B[1;33m\u001B[0m\u001B[0m\n\u001B[0;32m     12\u001B[0m     \u001B[0mi\u001B[0m\u001B[1;33m+=\u001B[0m\u001B[1;36m1\u001B[0m\u001B[1;33m\u001B[0m\u001B[1;33m\u001B[0m\u001B[0m\n",
      "\u001B[1;31mUFuncTypeError\u001B[0m: ufunc 'add' did not contain a loop with signature matching types (dtype('<U32'), dtype('<U32')) -> dtype('<U32')"
     ]
    }
   ],
   "source": [
    "with open(input_data_path+'aozora_contents.json', encoding='utf-8') as f:\n",
    "    novel_text_dic = json.load(f)\n",
    "\n",
    "train_l = []\n",
    "i = 0\n",
    "for novel_content_id, author_id in zip(novel_id_l, author_l):\n",
    "    novel_content = novel_text_dic[novel_content_id].replace('\\n', '').replace('\\r', '').replace('\\u3000', '')\n",
    "    novel_word_l = doc_wakati(novel_content)\n",
    "    text_vec = text_to_vec(novel_word_l, w2v_model)\n",
    "    train_l.append(author_id+text_vec)\n",
    "    print('\\r'+str(i), end='')\n",
    "    i+=1\n",
    "\n",
    "train_df = pd.DataFrame(train_l, columns=['author_id', [i for i in range(len(text_vec))]])"
   ],
   "metadata": {
    "collapsed": false,
    "pycharm": {
     "name": "#%%\n"
    }
   }
  },
  {
   "cell_type": "code",
   "execution_count": 21,
   "outputs": [
    {
     "data": {
      "text/plain": "text_vec     [-172.39893, -224.3913, 796.50244, -173.6843, ...\nauthor_id                                            auth_0000\nName: 1, dtype: object"
     },
     "execution_count": 21,
     "metadata": {},
     "output_type": "execute_result"
    }
   ],
   "source": [
    "train_df.loc[1]"
   ],
   "metadata": {
    "collapsed": false,
    "pycharm": {
     "name": "#%%\n"
    }
   }
  },
  {
   "cell_type": "code",
   "execution_count": 13,
   "outputs": [],
   "source": [
    "with open(output_data_path+'train_df.pickle', 'wb') as f:\n",
    "    pickle.dump(train_df, f)"
   ],
   "metadata": {
    "collapsed": false,
    "pycharm": {
     "name": "#%%\n"
    }
   }
  }
 ],
 "metadata": {
  "kernelspec": {
   "display_name": "Python 3",
   "language": "python",
   "name": "python3"
  },
  "language_info": {
   "codemirror_mode": {
    "name": "ipython",
    "version": 2
   },
   "file_extension": ".py",
   "mimetype": "text/x-python",
   "name": "python",
   "nbconvert_exporter": "python",
   "pygments_lexer": "ipython2",
   "version": "2.7.6"
  }
 },
 "nbformat": 4,
 "nbformat_minor": 0
}