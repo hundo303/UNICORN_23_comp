{
 "cells": [
  {
   "cell_type": "code",
   "execution_count": 6,
   "metadata": {
    "collapsed": true
   },
   "outputs": [],
   "source": [
    "import pandas as pd\n",
    "import MeCab\n",
    "from gensim.models import KeyedVectors\n",
    "from pprint import pprint\n",
    "\n",
    "tagger = MeCab.Tagger()"
   ]
  },
  {
   "cell_type": "code",
   "execution_count": 2,
   "outputs": [],
   "source": [
    "model_path = '../data/outer_data/chive-1.2-mc5.kv'\n",
    "w2v_model = KeyedVectors.load(model_path)"
   ],
   "metadata": {
    "collapsed": false,
    "pycharm": {
     "name": "#%%\n"
    }
   }
  },
  {
   "cell_type": "code",
   "execution_count": 83,
   "outputs": [
    {
     "name": "stdout",
     "output_type": "stream",
     "text": [
      "[('シェイクソーダ', 0.4577975571155548),\n",
      " ('甲子園', 0.45302537083625793),\n",
      " ('マメイー', 0.45202723145484924),\n",
      " ('ンゴーカキ', 0.4517104923725128),\n",
      " ('タロヒ', 0.4488997459411621),\n",
      " ('ムナエ', 0.43790167570114136),\n",
      " ('アルカナアルマシア', 0.4358844757080078),\n",
      " ('アイスホッケー', 0.43149274587631226),\n",
      " ('クトアイス', 0.42717376351356506),\n",
      " ('凍る', 0.4258545935153961)]\n"
     ]
    }
   ],
   "source": [
    "match = w2v_model.most_similar(positive=['野球', '氷'], negative=['ボール'], topn=10)\n",
    "pprint(match)"
   ],
   "metadata": {
    "collapsed": false,
    "pycharm": {
     "name": "#%%\n"
    }
   }
  },
  {
   "cell_type": "code",
   "execution_count": null,
   "outputs": [],
   "source": [
    "l = [1, 2, 3, 4, 5]\n",
    "df = pd.DataFrame(l, columns=['num'])\n",
    "\n",
    "for i, n in df.iterrows():\n",
    "   df.at[i, 'num'] += 1\n",
    "\n",
    "df"
   ],
   "metadata": {
    "collapsed": false,
    "pycharm": {
     "name": "#%%\n"
    }
   }
  },
  {
   "cell_type": "code",
   "execution_count": 12,
   "outputs": [
    {
     "data": {
      "text/plain": "[[1, 2, 3, 4, 5, 6], [4, 5, 6, 1, 2, 3]]"
     },
     "execution_count": 12,
     "metadata": {},
     "output_type": "execute_result"
    }
   ],
   "source": [
    "l = []\n",
    "l1 = [1, 2, 3]\n",
    "l2 = [4, 5, 6]\n",
    "l.append(l1+l2)\n",
    "l.append(l2+l1)\n",
    "l"
   ],
   "metadata": {
    "collapsed": false,
    "pycharm": {
     "name": "#%%\n"
    }
   }
  }
 ],
 "metadata": {
  "kernelspec": {
   "display_name": "Python 3",
   "language": "python",
   "name": "python3"
  },
  "language_info": {
   "codemirror_mode": {
    "name": "ipython",
    "version": 2
   },
   "file_extension": ".py",
   "mimetype": "text/x-python",
   "name": "python",
   "nbconvert_exporter": "python",
   "pygments_lexer": "ipython2",
   "version": "2.7.6"
  }
 },
 "nbformat": 4,
 "nbformat_minor": 0
}